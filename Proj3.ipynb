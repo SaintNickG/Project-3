{
 "cells": [
  {
   "cell_type": "markdown",
   "id": "1fde6fc7",
   "metadata": {},
   "source": [
    "# Project 3, Part 1\n",
    "*  **Nicholas Giuffrida**"
   ]
  },
  {
   "cell_type": "code",
   "execution_count": 1,
   "id": "c4f705fe",
   "metadata": {},
   "outputs": [],
   "source": [
    "import pandas as pd\n",
    "import glob\n",
    "import matplotlib.pyplot as plt\n",
    "import numpy as np\n",
    "import holidays\n",
    "import datetime as dt\n",
    "import seaborn as sns\n",
    "from holidays import country_holidays\n",
    "plt.rcParams['figure.facecolor']='white'\n",
    "plt.rcParams['figure.figsize']=(12,4)\n",
    "import matplotlib.ticker as mticks\n",
    "import matplotlib.dates as mdates\n",
    "sns.set_context(\"talk\", font_scale=0.9)"
   ]
  },
  {
   "cell_type": "code",
   "execution_count": 2,
   "id": "2a218f3e",
   "metadata": {
    "scrolled": true
   },
   "outputs": [
    {
     "data": {
      "text/plain": [
       "['Data/Chicago-Crime_2001.csv',\n",
       " 'Data/Chicago-Crime_2002.csv',\n",
       " 'Data/Chicago-Crime_2003.csv',\n",
       " 'Data/Chicago-Crime_2004.csv',\n",
       " 'Data/Chicago-Crime_2005.csv',\n",
       " 'Data/Chicago-Crime_2006.csv',\n",
       " 'Data/Chicago-Crime_2007.csv',\n",
       " 'Data/Chicago-Crime_2008.csv',\n",
       " 'Data/Chicago-Crime_2009.csv',\n",
       " 'Data/Chicago-Crime_2010.csv',\n",
       " 'Data/Chicago-Crime_2011.csv',\n",
       " 'Data/Chicago-Crime_2012.csv',\n",
       " 'Data/Chicago-Crime_2013.csv',\n",
       " 'Data/Chicago-Crime_2014.csv',\n",
       " 'Data/Chicago-Crime_2015.csv',\n",
       " 'Data/Chicago-Crime_2016.csv',\n",
       " 'Data/Chicago-Crime_2017.csv',\n",
       " 'Data/Chicago-Crime_2018.csv',\n",
       " 'Data/Chicago-Crime_2019.csv',\n",
       " 'Data/Chicago-Crime_2020.csv',\n",
       " 'Data/Chicago-Crime_2021.csv',\n",
       " 'Data/Chicago-Crime_2022.csv']"
      ]
     },
     "execution_count": 2,
     "metadata": {},
     "output_type": "execute_result"
    }
   ],
   "source": [
    "crime_files = sorted(glob.glob(\"Data/Chicago-Crime_*.csv\"))\n",
    "crime_files\n"
   ]
  },
  {
   "cell_type": "code",
   "execution_count": null,
   "id": "a9601e70",
   "metadata": {},
   "outputs": [],
   "source": [
    "# Use read_csv in a list comprehension and combine with concat to load all files\n",
    "df = pd.concat([pd.read_csv(f) for f in crime_files] )\n",
    "df.head()"
   ]
  },
  {
   "cell_type": "code",
   "execution_count": null,
   "id": "ee958475",
   "metadata": {
    "scrolled": false
   },
   "outputs": [],
   "source": [
    "df.columns"
   ]
  },
  {
   "cell_type": "code",
   "execution_count": null,
   "id": "28bb6c8d",
   "metadata": {
    "scrolled": false
   },
   "outputs": [],
   "source": [
    "df.info()"
   ]
  },
  {
   "cell_type": "code",
   "execution_count": null,
   "id": "ac40b8e9",
   "metadata": {},
   "outputs": [],
   "source": [
    "df.isna().sum()"
   ]
  },
  {
   "cell_type": "code",
   "execution_count": null,
   "id": "2d728ff6",
   "metadata": {},
   "outputs": [],
   "source": [
    "df = df.dropna(subset=[\"District\"])"
   ]
  },
  {
   "cell_type": "code",
   "execution_count": null,
   "id": "4bd7b1c7",
   "metadata": {
    "scrolled": true
   },
   "outputs": [],
   "source": [
    "df['District'] = df['District'].astype(int)"
   ]
  },
  {
   "cell_type": "code",
   "execution_count": null,
   "id": "42259987",
   "metadata": {},
   "outputs": [],
   "source": [
    "df.info()"
   ]
  },
  {
   "cell_type": "code",
   "execution_count": null,
   "id": "06ad39f4",
   "metadata": {},
   "outputs": [],
   "source": [
    "now = dt.datetime.now()\n",
    "now"
   ]
  },
  {
   "cell_type": "code",
   "execution_count": null,
   "id": "b0d169cb",
   "metadata": {},
   "outputs": [],
   "source": [
    "fmt = \"%m/%d/%Y %I:%M:%S %p\"\n",
    "now.strftime(fmt)"
   ]
  },
  {
   "cell_type": "code",
   "execution_count": null,
   "id": "c84d9cbd",
   "metadata": {
    "scrolled": true
   },
   "outputs": [],
   "source": [
    "df['Date'] = pd.to_datetime(df['Date'], format = fmt)\n",
    "df.info()"
   ]
  },
  {
   "cell_type": "code",
   "execution_count": null,
   "id": "c1927ffd",
   "metadata": {},
   "outputs": [],
   "source": [
    "melted = pd.melt(df.drop(columns=['Latitude','Longitude','Ward','Arrest','Beat', \n",
    "                                  'Description', 'Location Description', 'Domestic']),\n",
    "                 id_vars=['Date', 'Primary Type', \n",
    "                             'District'], \n",
    "                 value_name=\"keyword operator from-rainbow\">='Date',var_name=\"Crime\")\n",
    "melted"
   ]
  },
  {
   "cell_type": "code",
   "execution_count": null,
   "id": "ee10392f",
   "metadata": {
    "scrolled": true
   },
   "outputs": [],
   "source": [
    "melted = melted.set_index(\"Date\")\n",
    "melted = melted.sort_index()\n",
    "melted.head(3)"
   ]
  },
  {
   "cell_type": "markdown",
   "id": "45ea685e",
   "metadata": {},
   "source": [
    "## Topic 1) Comparing Police Districts\n",
    "*  Which district had the most crimes in 2022?\n",
    "* Which had the least?"
   ]
  },
  {
   "cell_type": "code",
   "execution_count": null,
   "id": "7d31ee10",
   "metadata": {},
   "outputs": [],
   "source": [
    "crimes_by_dist = melted.groupby('Date')['District'].value_counts().sort_index()\n",
    "crimes_by_dist"
   ]
  },
  {
   "cell_type": "code",
   "execution_count": null,
   "id": "024a8557",
   "metadata": {
    "scrolled": false
   },
   "outputs": [],
   "source": [
    "plot_crime = crimes_by_dist.to_frame('Crimes').reset_index()\n",
    "plot_crime"
   ]
  },
  {
   "cell_type": "code",
   "execution_count": null,
   "id": "df9e9089",
   "metadata": {},
   "outputs": [],
   "source": [
    "plot_crime = plot_crime.drop(plot_crime[plot_crime['Crimes']==0].index)\n",
    "plot_crime.head()\n"
   ]
  },
  {
   "cell_type": "code",
   "execution_count": null,
   "id": "786a76ee",
   "metadata": {},
   "outputs": [],
   "source": [
    "plot_crime.dtypes"
   ]
  },
  {
   "cell_type": "code",
   "execution_count": null,
   "id": "d6e3c589",
   "metadata": {},
   "outputs": [],
   "source": [
    "plot_crime.value_counts()"
   ]
  },
  {
   "cell_type": "code",
   "execution_count": null,
   "id": "259e1b9a",
   "metadata": {},
   "outputs": [],
   "source": []
  },
  {
   "cell_type": "code",
   "execution_count": null,
   "id": "5ade3866",
   "metadata": {},
   "outputs": [],
   "source": [
    "plot_crime.info()"
   ]
  },
  {
   "cell_type": "markdown",
   "id": "fae48989",
   "metadata": {},
   "source": [
    "###  Total Aproach\n",
    "*  We can simply check the total number of crimes reported by district."
   ]
  },
  {
   "cell_type": "code",
   "execution_count": null,
   "id": "2c147112",
   "metadata": {
    "scrolled": true
   },
   "outputs": [],
   "source": [
    "sns.set_context(\"poster\", font_scale=0.6)\n",
    "ax = sns.countplot(data=plot_crime, x='District')"
   ]
  },
  {
   "cell_type": "markdown",
   "id": "864a948e",
   "metadata": {},
   "source": [
    "###  Total Aproach answer:\n",
    "*  The most crimes were reported in Districts 11 and 8 .\n",
    "*  The fewest were in Districts 21, and 31"
   ]
  },
  {
   "cell_type": "code",
   "execution_count": null,
   "id": "c0222879",
   "metadata": {},
   "outputs": [],
   "source": [
    "crime_perc_by_dist = plot_crime.groupby('District')['Crimes'].value_counts(normalize=True).sort_index()\n",
    "crime_perc_by_dist"
   ]
  },
  {
   "cell_type": "code",
   "execution_count": null,
   "id": "b9aac750",
   "metadata": {},
   "outputs": [],
   "source": [
    "plot_df_perc = crime_perc_by_dist.to_frame('Crime Perc').reset_index()\n",
    "plot_df_perc"
   ]
  },
  {
   "cell_type": "code",
   "execution_count": null,
   "id": "3fe9256c",
   "metadata": {},
   "outputs": [],
   "source": [
    "plot_df_perc.describe()"
   ]
  },
  {
   "cell_type": "markdown",
   "id": "cc93847c",
   "metadata": {},
   "source": [
    "###  Normalized Approach\n",
    "*  View the totals as a portion of the total reported."
   ]
  },
  {
   "cell_type": "code",
   "execution_count": null,
   "id": "ce8fe084",
   "metadata": {},
   "outputs": [],
   "source": [
    "ax = sns.countplot(data=plot_df_perc, x='District')\n",
    "fig = ax.get_figure()\n",
    "fig.autofmt_xdate()"
   ]
  },
  {
   "cell_type": "markdown",
   "id": "f5e90783",
   "metadata": {},
   "source": [
    "###  Normalized Aproach answer\n",
    "*  We can see that While 21 and 31 still represent the low end of the spectrum :\n",
    "\n",
    " - District 11 has dropped to the middle of the pack, and\n",
    "  - Disrict 25 has become the new entry into the *Most Crimes* category."
   ]
  },
  {
   "cell_type": "markdown",
   "id": "fe23c6ae",
   "metadata": {},
   "source": [
    "##  Topic 4) Comparing Months\n",
    "1. What months have the most crime? What months have the least?\n",
    "1. Are there any individual crimes that do not follow this pattern? If so, which crimes?"
   ]
  },
  {
   "cell_type": "code",
   "execution_count": null,
   "id": "db822337",
   "metadata": {},
   "outputs": [],
   "source": [
    "# Engineering features by date time\n",
    "melted['Month']  = melted.index.month\n",
    "melted['Month'] = melted['Month']"
   ]
  },
  {
   "cell_type": "code",
   "execution_count": null,
   "id": "da1a95f9",
   "metadata": {},
   "outputs": [],
   "source": [
    "melted['Month'].value_counts()"
   ]
  },
  {
   "cell_type": "code",
   "execution_count": null,
   "id": "942a810b",
   "metadata": {
    "scrolled": true
   },
   "outputs": [],
   "source": [
    "ax = sns.countplot(data=melted, x=('Month'))\n",
    "fig = ax.get_figure()\n",
    "fig.autofmt_xdate()"
   ]
  },
  {
   "cell_type": "markdown",
   "id": "779fa22f",
   "metadata": {},
   "source": [
    "###  Topic 2 Part 1 answer\n",
    "-  January and February  had the fewest Crimes, While July and August had the most\n",
    "\n",
    " -  Let's Break that down to see if certain crimes do not follow the same trend."
   ]
  },
  {
   "cell_type": "code",
   "execution_count": null,
   "id": "4c27b66b",
   "metadata": {},
   "outputs": [],
   "source": [
    "crimes_by_month = melted.groupby('Primary Type')['Month'].value_counts().sort_index()\n",
    "crimes_by_month"
   ]
  },
  {
   "cell_type": "code",
   "execution_count": null,
   "id": "4668c221",
   "metadata": {
    "scrolled": true
   },
   "outputs": [],
   "source": [
    "# convert to dataframe \n",
    "plot_df = crimes_by_month.to_frame('Crimes').reset_index()\n",
    "plot_df"
   ]
  },
  {
   "cell_type": "code",
   "execution_count": null,
   "id": "19f57fcd",
   "metadata": {
    "scrolled": true
   },
   "outputs": [],
   "source": [
    "ax = sns.lineplot(data=plot_df, x='Month',y='Crimes')"
   ]
  },
  {
   "cell_type": "markdown",
   "id": "d5581fa7",
   "metadata": {},
   "source": [
    "*  Here we can see that the overall crime trend within the city can fluctuate greatly depending on the actual Solar Season.\n",
    "\n",
    " - Crime up when Temps up.  "
   ]
  },
  {
   "cell_type": "code",
   "execution_count": null,
   "id": "5f446765",
   "metadata": {
    "scrolled": true
   },
   "outputs": [],
   "source": [
    "fig, ax = plt.subplots(figsize=(12,20))\n",
    "sns.lineplot(data=plot_df, x='Month',y='Crimes',markers=True,\n",
    "                  hue='Primary Type',ax=ax,)\n",
    "ax.legend(bbox_to_anchor=[1,1]);"
   ]
  },
  {
   "cell_type": "markdown",
   "id": "2d67156f",
   "metadata": {},
   "source": [
    "###  Captain Chicago\n",
    " *  It seems Obvious that we are working for a super hero.\n",
    " * He Is going to single handedly put a dent in Crime in Chicago\n",
    " * He needs to know What Time of year to focus his efforts on Which Types of Crimes.\n",
    " * He is certainly NOT Dan Akroyd(probably)."
   ]
  },
  {
   "cell_type": "code",
   "execution_count": null,
   "id": "7af365aa",
   "metadata": {
    "scrolled": false
   },
   "outputs": [],
   "source": [
    "plot_df['Primary Type'].value_counts()"
   ]
  },
  {
   "cell_type": "markdown",
   "id": "7e4168b4",
   "metadata": {},
   "source": [
    "###  Remove Statutory\n",
    "*  **Captain Chicago** Has no time for Statutory Crime.\n",
    "\n",
    " -  That's his motto.\n",
    " -  It's not the best motto\n",
    " \n",
    "* We will remove the *statutory crimes* by\n",
    " - 1st defining all the values that constitute *Statutory*.\n",
    "  - then excluding those from our Visualizations"
   ]
  },
  {
   "cell_type": "code",
   "execution_count": null,
   "id": "009b5d31",
   "metadata": {},
   "outputs": [],
   "source": [
    "plot_df['Primary Type'] = plot_df['Primary Type'].replace({'CONCEALED CARRY LICENSE VIOLATION':'STATUTORY OFFENSE', \n",
    "                                                           \"WEAPONS VIOLATION\":'STATUTORY OFFENSE',\n",
    "                                                           'CRIMINAL SEXUAL ASSAULT':'SEX OFFENSE', \n",
    "                                                          'PUBLIC INDECENCY':'STATUTORY OFFENSE', \n",
    "                                                           'PUBLIC PEACE VIOLATION':'STATUTORY OFFENSE', \n",
    "                                                          'LIQUOR LAW VIOLATION':'STATUTORY OFFENSE',\n",
    "                                                          'PROSTITUTION':'STATUTORY OFFENSE',\n",
    "                                                          'OTHER NARCOTIC VIOLATION':'STATUTORY OFFENSE', \n",
    "                                                          'OBSCENITY':'STATUTORY OFFENSE', \n",
    "                                                          'NON-CRIMINAL':'STATUTORY OFFENSE', \n",
    "                                                          'NARCOTICS':'STATUTORY OFFENSE', \n",
    "                                                          'CRIM SEXUAL ASSAULT':'SEX OFFENSE',\n",
    "                                                           'GAMBLING':'STATUTORY OFFENSE', \n",
    "                                                          'INTERFERENCE WITH PUBLIC OFFICER':'STATUTORY OFFENSE', \n",
    "                                                          'RITUALISM':'STATUTORY OFFENSE', \n",
    "                                                          'NON - CRIMINAL':'STATUTORY OFFENSE', \n",
    "                                                          'NON-CRIMINAL (SUBJECT SPECIFIED)':'STATUTORY OFFENSE'})\n",
    "plot_df['Primary Type'].value_counts()"
   ]
  },
  {
   "cell_type": "code",
   "execution_count": null,
   "id": "93499e06",
   "metadata": {
    "scrolled": true
   },
   "outputs": [],
   "source": [
    "plot_df = plot_df.drop(plot_df[plot_df['Primary Type']=='STATUTORY OFFENSE'].index)\n",
    "plot_df.head()\n",
    "plot_df['Primary Type'].value_counts()"
   ]
  },
  {
   "cell_type": "code",
   "execution_count": null,
   "id": "84815a93",
   "metadata": {
    "scrolled": false
   },
   "outputs": [],
   "source": [
    "g = sns.catplot(data=plot_df, x='Month', y='Crimes',\n",
    "                kind='point',aspect=2, height=4,\n",
    "                hue='Primary Type', col='Primary Type',col_wrap=2,\n",
    "               sharey=False, sharex=False)\n",
    "[ax.grid(axis='x') for ax in g.axes];"
   ]
  },
  {
   "cell_type": "markdown",
   "id": "a2ea4dbf",
   "metadata": {},
   "source": [
    "###   Topic 4 part 2 answer\n",
    "*  The most notable Crime Type that goes against the Overall seasonal trend is the Deceptive Practice, which rises to it's peak around the end of the calender year\n",
    "\n",
    " -  We can not rule out that Santa Clause may have something to do with these \"Deceptive Practices\".\n",
    " - Captain Chicago (probably not Dan Akroyd) is on it!"
   ]
  },
  {
   "cell_type": "markdown",
   "id": "4cfbb6d6",
   "metadata": {},
   "source": [
    "##  Topic 2  Crimes Across the Years:\n",
    "1. Is the total number of crimes increasing or decreasing across the years?\n",
    "1.Are there any individual crimes that are doing the opposite?"
   ]
  },
  {
   "cell_type": "code",
   "execution_count": null,
   "id": "6cd9d945",
   "metadata": {},
   "outputs": [],
   "source": [
    "melted['Year']  = melted.index.year\n",
    "melted['Year']"
   ]
  },
  {
   "cell_type": "code",
   "execution_count": null,
   "id": "51f7c39e",
   "metadata": {
    "scrolled": false
   },
   "outputs": [],
   "source": [
    "ax = sns.countplot(data=melted, x='Year')\n",
    "fig = ax.get_figure()\n",
    "fig.autofmt_xdate()"
   ]
  },
  {
   "cell_type": "markdown",
   "id": "14804f6d",
   "metadata": {},
   "source": [
    "###  Topic 2 part 1 answer\n",
    "*  The overall trend is that crime hes been steadily decreasing from 2001- Present.\n",
    "\n",
    " -  Let's see if any individual crimes buck that trend."
   ]
  },
  {
   "cell_type": "code",
   "execution_count": null,
   "id": "9694e2ff",
   "metadata": {},
   "outputs": [],
   "source": [
    "crimes_by_year = melted.groupby('Primary Type')['Year'].value_counts().sort_index()\n",
    "crimes_by_year"
   ]
  },
  {
   "cell_type": "code",
   "execution_count": null,
   "id": "bb85ec9b",
   "metadata": {},
   "outputs": [],
   "source": [
    "plot_df_y = crimes_by_year.to_frame('Crimes').reset_index()\n",
    "plot_df_y"
   ]
  },
  {
   "cell_type": "code",
   "execution_count": null,
   "id": "6431f606",
   "metadata": {},
   "outputs": [],
   "source": [
    "plot_df_y['Primary Type'] = plot_df_y['Primary Type'].replace({'CONCEALED CARRY LICENSE VIOLATION':'STATUTORY OFFENSE', \n",
    "                                                           \"WEAPONS VIOLATION\":'STATUTORY OFFENSE',\n",
    "                                                           'CRIMINAL SEXUAL ASSAULT':'SEX OFFENSE', \n",
    "                                                          'PUBLIC INDECENCY':'STATUTORY OFFENSE', \n",
    "                                                           'PUBLIC PEACE VIOLATION':'STATUTORY OFFENSE', \n",
    "                                                          'LIQUOR LAW VIOLATION':'STATUTORY OFFENSE',\n",
    "                                                          'PROSTITUTION':'STATUTORY OFFENSE',\n",
    "                                                          'OTHER NARCOTIC VIOLATION':'STATUTORY OFFENSE', \n",
    "                                                          'OBSCENITY':'STATUTORY OFFENSE', \n",
    "                                                          'NON-CRIMINAL':'STATUTORY OFFENSE', \n",
    "                                                          'NARCOTICS':'STATUTORY OFFENSE', \n",
    "                                                          'CRIM SEXUAL ASSAULT':'SEX OFFENSE',\n",
    "                                                           'GAMBLING':'STATUTORY OFFENSE', \n",
    "                                                          'INTERFERENCE WITH PUBLIC OFFICER':'STATUTORY OFFENSE', \n",
    "                                                          'RITUALISM':'STATUTORY OFFENSE', \n",
    "                                                          'NON - CRIMINAL':'STATUTORY OFFENSE', \n",
    "                                                          'NON-CRIMINAL (SUBJECT SPECIFIED)':'STATUTORY OFFENSE'})\n",
    "plot_df_y['Primary Type'].value_counts()"
   ]
  },
  {
   "cell_type": "code",
   "execution_count": null,
   "id": "f14ca3ba",
   "metadata": {},
   "outputs": [],
   "source": [
    "plot_df_y = plot_df_y.drop(plot_df_y[plot_df_y['Primary Type']=='STATUTORY OFFENSE'].index)\n",
    "plot_df_y['Primary Type'].value_counts()"
   ]
  },
  {
   "cell_type": "code",
   "execution_count": null,
   "id": "ecb00333",
   "metadata": {},
   "outputs": [],
   "source": [
    "g = sns.catplot(data=plot_df_y, x='Year', y='Crimes',\n",
    "                kind='point',aspect=3, height=4,\n",
    "                hue='Primary Type', col='Primary Type',col_wrap=2,\n",
    "               sharey=False, sharex=False)\n",
    "[ax.grid(axis='x') for ax in g.axes];"
   ]
  },
  {
   "cell_type": "markdown",
   "id": "570a4350",
   "metadata": {},
   "source": [
    "###  Topic 2 part 2 Answer\n",
    "-  We can see that *Human Trafficking*, *Stalking*, *Sex Offense*, and *Homicide* Each have gone against the greater, downward trend in Crime."
   ]
  }
 ],
 "metadata": {
  "kernelspec": {
   "display_name": "Python (dojo-env)",
   "language": "python",
   "name": "dojo-env"
  },
  "language_info": {
   "codemirror_mode": {
    "name": "ipython",
    "version": 3
   },
   "file_extension": ".py",
   "mimetype": "text/x-python",
   "name": "python",
   "nbconvert_exporter": "python",
   "pygments_lexer": "ipython3",
   "version": "3.9.15"
  },
  "toc": {
   "base_numbering": 1,
   "nav_menu": {},
   "number_sections": false,
   "sideBar": true,
   "skip_h1_title": false,
   "title_cell": "Table of Contents",
   "title_sidebar": "Contents",
   "toc_cell": false,
   "toc_position": {},
   "toc_section_display": true,
   "toc_window_display": false
  }
 },
 "nbformat": 4,
 "nbformat_minor": 5
}
